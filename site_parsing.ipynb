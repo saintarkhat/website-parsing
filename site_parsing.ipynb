{
 "cells": [
  {
   "cell_type": "code",
   "execution_count": null,
   "metadata": {
    "collapsed": true
   },
   "outputs": [],
   "source": [
    "import pandas as pd\n",
    "import requests\n",
    "from bs4 import BeautifulSoup"
   ]
  },
  {
   "cell_type": "code",
   "execution_count": null,
   "outputs": [],
   "source": [
    "def parse(games, prod):\n",
    "    i = 0\n",
    "    l = len(games)\n",
    "    result = pd.DataFrame()\n",
    "    if len(prod) > 0:\n",
    "        pl = ['', '-'+prod.replace(' ','-')]\n",
    "    else: pl = ['']\n",
    "    for p in pl:\n",
    "        for game in games:\n",
    "            g = game.replace(' ','-')\n",
    "            url = f\"https://slotcatalog.com/en/slots/{g}{p}\"\n",
    "            response = requests.get(url)\n",
    "\n",
    "            if response.status_code == 200:\n",
    "                soup = BeautifulSoup(response.text, 'html.parser')\n",
    "                slot_attr_review = soup.find('div', class_='slotAttrReview')\n",
    "\n",
    "                if slot_attr_review:\n",
    "                    hcon_page = slot_attr_review.find('div', class_='HConPage')\n",
    "                    if hcon_page:\n",
    "                        hcon_page.decompose()\n",
    "\n",
    "                    data = {}\n",
    "                    game_title = soup.find('h3', id='attributes')\n",
    "                    if game_title:\n",
    "                        data['Game Title'] = game_title.get_text(separator=\" \", strip=True).replace(' Attributes', '')\n",
    "\n",
    "                    for row in slot_attr_review.find_all('tr'):\n",
    "                        header = row.find('th', class_='propLeft')\n",
    "                        value_cell = row.find('td', class_='propRight')\n",
    "                        if header and value_cell:\n",
    "                            key = header.text.strip().rstrip(':')\n",
    "                            value = value_cell.get_text(separator=\" \", strip=True)\n",
    "                            data[key] = value\n",
    "                        elif 'colspan' in row.find('td').attrs:\n",
    "                            key, value = row.find('td').text.split(':', 1)\n",
    "                            key = key.strip()\n",
    "                            value = value.strip()\n",
    "                            if value.startswith('N/A'):\n",
    "                                value = 'N/A'\n",
    "                            elif row.find('td').find('a'):\n",
    "                                value = ', '.join(a.get_text(strip=True) for a in row.find('td').find_all('a'))\n",
    "                            data[key] = value\n",
    "                else:\n",
    "                    print(\"Элемент не найден\")\n",
    "\n",
    "                tt = pd.DataFrame([data])\n",
    "                result = pd.concat([result,tt],axis=0)\n",
    "\n",
    "            i+=1\n",
    "            sys.stdout.write(f'\\rЭто итерация номер {i} / {l*len(pl)}')\n",
    "            time.sleep(1)\n",
    "            sys.stdout.flush()\n",
    "    return result"
   ],
   "metadata": {
    "collapsed": false
   }
  },
  {
   "cell_type": "code",
   "execution_count": null,
   "outputs": [],
   "source": [
    "games_to_parse = [list_of_games_names]\n",
    "pg_soft = parse(games_to_parse,'PG Soft')"
   ],
   "metadata": {
    "collapsed": false
   }
  }
 ],
 "metadata": {
  "kernelspec": {
   "display_name": "Python 3",
   "language": "python",
   "name": "python3"
  },
  "language_info": {
   "codemirror_mode": {
    "name": "ipython",
    "version": 2
   },
   "file_extension": ".py",
   "mimetype": "text/x-python",
   "name": "python",
   "nbconvert_exporter": "python",
   "pygments_lexer": "ipython2",
   "version": "2.7.6"
  }
 },
 "nbformat": 4,
 "nbformat_minor": 0
}
